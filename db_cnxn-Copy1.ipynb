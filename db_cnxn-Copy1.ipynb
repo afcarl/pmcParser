{
 "cells": [
  {
   "cell_type": "code",
   "execution_count": 2,
   "metadata": {},
   "outputs": [],
   "source": [
    "import psycopg2\n",
    "import psycopg2.extras\n",
    "import json\n",
    "# import pyodbc\n",
    "import string\n",
    "import datetime\n",
    "from datetime import date\n",
    "import pickle\n",
    "import random\n",
    "import helper\n",
    "import pandas as pd"
   ]
  },
  {
   "cell_type": "code",
   "execution_count": 16,
   "metadata": {},
   "outputs": [
    {
     "ename": "ProgrammingError",
     "evalue": "syntax error at or near \"'DataPull_ID'\"\nLINE 1: INSERT INTO public.'DataPull_ID' (PullID) VALUES ('1');\n                           ^\n",
     "output_type": "error",
     "traceback": [
      "\u001b[0;31m---------------------------------------------------------------------------\u001b[0m",
      "\u001b[0;31mProgrammingError\u001b[0m                          Traceback (most recent call last)",
      "\u001b[0;32m<ipython-input-16-b122378e85b1>\u001b[0m in \u001b[0;36m<module>\u001b[0;34m()\u001b[0m\n\u001b[1;32m     26\u001b[0m \u001b[0mdata\u001b[0m \u001b[0;34m=\u001b[0m \u001b[0;34m(\u001b[0m\u001b[0;34m'1'\u001b[0m\u001b[0;34m)\u001b[0m\u001b[0;34m\u001b[0m\u001b[0m\n\u001b[1;32m     27\u001b[0m \u001b[0;31m# >>> cur.execute(SQL, data) # Note: no % operator\u001b[0m\u001b[0;34m\u001b[0m\u001b[0;34m\u001b[0m\u001b[0m\n\u001b[0;32m---> 28\u001b[0;31m \u001b[0mcursor\u001b[0m\u001b[0;34m.\u001b[0m\u001b[0mexecute\u001b[0m\u001b[0;34m(\u001b[0m\u001b[0mSQL\u001b[0m\u001b[0;34m,\u001b[0m\u001b[0mdata\u001b[0m\u001b[0;34m)\u001b[0m\u001b[0;34m\u001b[0m\u001b[0m\n\u001b[0m\u001b[1;32m     29\u001b[0m \u001b[0;31m# args = (pull_id,pull_date,pull_name,pull_query,pull_type,pull_source,pull_by)\u001b[0m\u001b[0;34m\u001b[0m\u001b[0;34m\u001b[0m\u001b[0m\n\u001b[1;32m     30\u001b[0m \u001b[0;31m# cursor.execute(SQL,args)\u001b[0m\u001b[0;34m\u001b[0m\u001b[0;34m\u001b[0m\u001b[0m\n",
      "\u001b[0;31mProgrammingError\u001b[0m: syntax error at or near \"'DataPull_ID'\"\nLINE 1: INSERT INTO public.'DataPull_ID' (PullID) VALUES ('1');\n                           ^\n"
     ]
    }
   ],
   "source": [
    "#Define our connection string\n",
    "conn_string = \"host='localhost' dbname='lit_review' user='postgres' password='gres'\"\n",
    " \n",
    "# print the connection string we will use to connect\n",
    "# print(\"Connecting to database\\n\" + conn_string)\n",
    " \n",
    "# get a connection, if a connect cannot be made an exception will be raised here\n",
    "conn = psycopg2.connect(conn_string)\n",
    " \n",
    "# conn.cursor will return a cursor object, you can use this cursor to perform queries\n",
    "cursor = conn.cursor()\n",
    "# cursor.execute(\"SELECT * FROM information_schema.tables where table_schema = 'public' \")\n",
    "# cursor.fetchall()\n",
    "pull_id = 1\n",
    "pull_date = datetime.datetime.now().strftime('%m/%d/%Y %I:%M:%S %p')\n",
    "pull_name = 'terms'\n",
    "pull_query = 'terms'\n",
    "pull_type = 'keyword' #keyword/ author\n",
    "pull_source = 'db'.upper()\n",
    "pull_by = 'Sophie'\n",
    "\n",
    "\n",
    "SQL = \"INSERT INTO public.'DataPull_ID' (PullID) VALUES (%s);\" # Note: no quotes\n",
    "# SQL = \"INSERT INTO public.\"DataPull_ID\"(\"PullID\", \"PullDate\", \"PullName\", \"PullQuery\", \"PullType\", \"PullSource\", \"PullBy\") VALUES (%s,%s,%s,%s,%s,%s,%s);\n",
    "# >>> data = (\"O'Reilly\", )\n",
    "data = ('1')\n",
    "# >>> cur.execute(SQL, data) # Note: no % operator\n",
    "cursor.execute(SQL,data)\n",
    "# args = (pull_id,pull_date,pull_name,pull_query,pull_type,pull_source,pull_by)\n",
    "# cursor.execute(SQL,args)\n",
    "# cursor.fetchall()\n",
    "# cursor.execute(\"SHOW search_path\")\n",
    "# cursor.execute(\"SELECT * FROM information_schema.columns\")\n",
    "# cursor.execute(\"SET search_path TO public\")\n",
    "#                where table_name = public.DataPull_Detail'\")\n",
    "# cursor.fetchall()\n",
    "\n",
    "# # cursor = conn.cursor('cursor_unique_name', cursor_factory=psycopg2.extras.DictCursor)\n",
    "# cursor.execute('SELECT * FROM public.DataPull_Detail LIMIT 1000')"
   ]
  },
  {
   "cell_type": "code",
   "execution_count": null,
   "metadata": {},
   "outputs": [],
   "source": []
  }
 ],
 "metadata": {
  "kernelspec": {
   "display_name": "Python 3",
   "language": "python",
   "name": "python3"
  },
  "language_info": {
   "codemirror_mode": {
    "name": "ipython",
    "version": 3
   },
   "file_extension": ".py",
   "mimetype": "text/x-python",
   "name": "python",
   "nbconvert_exporter": "python",
   "pygments_lexer": "ipython3",
   "version": "3.6.3"
  }
 },
 "nbformat": 4,
 "nbformat_minor": 2
}
